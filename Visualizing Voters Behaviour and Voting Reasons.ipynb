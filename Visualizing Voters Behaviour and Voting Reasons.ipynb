{
  "cells": [
    {
      "metadata": {
        "_uuid": "8f2839f25d086af736a60e9eeb907d3b93b6e0e5",
        "_cell_guid": "b1076dfc-b9ad-4769-8c92-a6c4dae69d19",
        "trusted": true,
        "collapsed": true
      },
      "cell_type": "code",
      "source": "# This Python 3 environment comes with many helpful analytics libraries installed\n# It is defined by the kaggle/python docker image: https://github.com/kaggle/docker-python\n# For example, here's several helpful packages to load in \n\nimport numpy as np # linear algebra\nimport pandas as pd # data processing, CSV file I/O (e.g. pd.read_csv)\n\n# Input data files are available in the \"../input/\" directory.\n# For example, running this (by clicking run or pressing Shift+Enter) will list the files in the input directory\n\nimport os\nprint(os.listdir(\"../input\"))\n\n# Any results you write to the current directory are saved as output.\n\nimport matplotlib.pyplot as plt\nimport plotly.plotly as py\nfrom matplotlib import rc",
      "execution_count": null,
      "outputs": []
    },
    {
      "metadata": {
        "_cell_guid": "79c7e3d0-c299-4dcb-8224-4455121ee9b0",
        "_uuid": "d629ff2d2480ee46fbb7e2d37f6b5fab8052498a",
        "trusted": true,
        "collapsed": true
      },
      "cell_type": "code",
      "source": "def read_sheet(name):\n    composition = pd.read_excel('../input/Gallup2013.xlsx',sheet_name=name)\n    composition = composition[:-1]\n    composition = composition.T\n    composition.columns = composition.iloc[0]\n    composition = composition[1:]\n    return composition",
      "execution_count": null,
      "outputs": []
    },
    {
      "metadata": {
        "trusted": true,
        "_uuid": "fce800b30528e365d21dc2797b46ee91c5a0f5eb",
        "collapsed": true
      },
      "cell_type": "code",
      "source": "r = [0,1,2,3]\nage_composition = read_sheet('AGE COMPOSITION OF PARTY VOTES ')\ngreenBars = age_composition['New voters (Age 18-24)']\norangeBars = age_composition['Age 25 – 29']\nblueBars = age_composition['Age 30 – 34']\nredBars = age_composition['Age 35 - 49']\nyellowBars = age_composition['50 +']\n\n \n# plot\nbarWidth = 0.85\nnames = ('All Pakistan','PML(N)','PTI','PPP')\n# Create green Bars\nplt.bar(r, greenBars, color='#b5ffb9', edgecolor='white', width=barWidth, label=\"Age 18-24\")\n# Create orange Bars\nplt.bar(r, orangeBars, bottom=greenBars, color='#f9bc86', edgecolor='white', width=barWidth, label=\"Age 25-29\")\n# Create blue Bars\nplt.bar(r, blueBars, bottom=[i+j for i,j in zip(greenBars, orangeBars)], color='#a3acff', edgecolor='white', width=barWidth, label=\"Age 30-35\")\n\nplt.bar(r, redBars, bottom=[i+j+k for i,j,k in zip(greenBars, orangeBars,blueBars)], color='#ff0000', edgecolor='white', width=barWidth,label=\"Age 35-49\")\n \n\nplt.bar(r, yellowBars, bottom=[i+j+k+l for i,j,k,l in zip(greenBars, orangeBars,blueBars,redBars)], color='#ffff00', edgecolor='white', width=barWidth,label=\"Age 50+\")\n# Custom x axis\nplt.xticks(r, names)\nplt.xlabel(\"Party\")\nplt.ylabel(\"Percentage\")\nplt.title(\"Age Composition\")\nplt.legend(loc='upper left', bbox_to_anchor=(1,1), ncol=1)\n \n# Show graphic\n\nplt.show()\n",
      "execution_count": null,
      "outputs": []
    },
    {
      "metadata": {
        "trusted": true,
        "_uuid": "ddd254e947c1334614c612ab74143ab3d8ce14f5",
        "collapsed": true
      },
      "cell_type": "code",
      "source": "r = [0,1,2,3]\neducation_composition = read_sheet('EDUCATIONAL COMPOSITION OF PART')\ngreenBars = education_composition['Illiterate']\norangeBars = education_composition['Up to Middle School']\nblueBars = education_composition['High School and Intermediate']\nredBars = education_composition['Bachelors and Masters (College)']\n \n# plot\nbarWidth = 0.85\nnames = ('All Pakistan','PML(N)','PTI','PPP')\n# Create green Bars\nplt.bar(r, greenBars, color='#b5ffb9', edgecolor='white', width=barWidth, label=\"Illiterate\")\n# Create orange Bars\nplt.bar(r, orangeBars, bottom=greenBars, color='#f9bc86', edgecolor='white', width=barWidth, label=\"Age Up to Middle School\")\n# Create blue Bars\nplt.bar(r, blueBars, bottom=[i+j for i,j in zip(greenBars, orangeBars)], color='#a3acff', edgecolor='white', width=barWidth, label=\"High School and Intermediate\")\n\nplt.bar(r, redBars, bottom=[i+j+k for i,j,k in zip(greenBars, orangeBars,blueBars)], color='#ff0000', edgecolor='white', width=barWidth,label=\"Bachelors and Masters (College)\")\n \n# Custom x axis\nplt.xticks(r, names)\nplt.xlabel(\"Party\")\nplt.ylabel(\"Percentage\")\nplt.title(\"Education Composition\")\nplt.legend(loc='upper left', bbox_to_anchor=(1,1), ncol=1)\n \n# Show graphic\n\nplt.show()",
      "execution_count": null,
      "outputs": []
    },
    {
      "metadata": {
        "trusted": true,
        "_uuid": "345004d12d79fd6e177e2170642ab0fbf81ce396",
        "collapsed": true
      },
      "cell_type": "code",
      "source": "r = [0,1,2,3]\nincome_composition = read_sheet('INCOME COMPOSITION OF PARTY VOT')\ngreenBars = income_composition['Upto  Rs.7,000']\norangeBars = income_composition['Rs 7,001 - 10,000']\nblueBars = income_composition['Rs 10,001 - 15,000']\nredBars = income_composition['Rs 15,000 - Rs. 30,000']\nyellowBars = income_composition['More than Rs. 30,000']\n\n \n# plot\nbarWidth = 0.85\nnames = ('All Pakistan','PML(N)','PTI','PPP')\n# Create green Bars\nplt.bar(r, greenBars, color='#b5ffb9', edgecolor='white', width=barWidth, label=\"Upto  Rs.7,000\")\n# Create orange Bars\nplt.bar(r, orangeBars, bottom=greenBars, color='#f9bc86', edgecolor='white', width=barWidth, label=\"Rs 7,001 - 10,000\")\n# Create blue Bars\nplt.bar(r, blueBars, bottom=[i+j for i,j in zip(greenBars, orangeBars)], color='#a3acff', edgecolor='white', width=barWidth, label=\"Rs 10,001 - 15,000\")\n\nplt.bar(r, redBars, bottom=[i+j+k for i,j,k in zip(greenBars, orangeBars,blueBars)], color='#ff0000', edgecolor='white', width=barWidth,label=\"Rs 15,000 - Rs. 30,000\")\n \n\nplt.bar(r, yellowBars, bottom=[i+j+k+l for i,j,k,l in zip(greenBars, orangeBars,blueBars,redBars)], color='#ffff00', edgecolor='white', width=barWidth,label=\"More than Rs. 30,000\")\n# Custom x axis\nplt.xticks(r, names)\nplt.xlabel(\"Party\")\nplt.ylabel(\"Percentage\")\nplt.title(\"Income Composition\")\nplt.legend(loc='upper left', bbox_to_anchor=(1,1), ncol=1)\n \n# Show graphic\n\nplt.show()\n",
      "execution_count": null,
      "outputs": []
    },
    {
      "metadata": {
        "trusted": true,
        "_uuid": "85fe3034126f257c03cacad6cd4a4fc1b022df82",
        "collapsed": true
      },
      "cell_type": "code",
      "source": "r = [0,1,2,3]\ngender_composition = read_sheet('GENDER COMPOSITION OF PARTY VOT')\ngreenBars = gender_composition['Men']\norangeBars = gender_composition['Women']\n\n \n# plot\nbarWidth = 0.85\nnames = ('All Pakistan','PML(N)','PTI','PPP')\n# Create green Bars\nplt.bar(r, greenBars, color='#b5ffb9', edgecolor='white', width=barWidth, label=\"Illiterate\")\n# Create orange Bars\nplt.bar(r, orangeBars, bottom=greenBars, color='#f9bc86', edgecolor='white', width=barWidth, label=\"Age Up to Middle School\")\n# Create blue Bars\nplt.bar(r, blueBars, bottom=[i+j for i,j in zip(greenBars, orangeBars)], color='#a3acff', edgecolor='white', width=barWidth, label=\"High School and Intermediate\")\n\nplt.bar(r, redBars, bottom=[i+j+k for i,j,k in zip(greenBars, orangeBars,blueBars)], color='#ff0000', edgecolor='white', width=barWidth,label=\"Bachelors and Masters (College)\")\n \n# Custom x axis\nplt.xticks(r, names)\nplt.xlabel(\"Party\")\nplt.ylabel(\"Percentage\")\nplt.title(\"Gender Composition\")\nplt.legend(loc='upper left', bbox_to_anchor=(1,1), ncol=1)\n \n# Show graphic\n\nplt.show()",
      "execution_count": null,
      "outputs": []
    },
    {
      "metadata": {
        "trusted": true,
        "collapsed": true,
        "_uuid": "5dc478938ae1ff2a1eedbd01826077c8b553891f"
      },
      "cell_type": "code",
      "source": "voting_reason = pd.read_excel('../input/Gallup2013.xlsx',sheet_name='Voting Reason (Gallup Exit Poll')\nvoting_reason.drop(['Percentage of Respondents (1993)', 'Percentage of Respondents (1997)'], axis=1,inplace=True)\nvoting_reason = voting_reason.T\ncols = voting_reason.iloc[0]\nvoting_reason = voting_reason.iloc[1:]\nvoting_reason.columns = cols\n\nr = [0,1]\ngreenBars = voting_reason['Party loyal']\norangeBars = voting_reason['Development seekers']\nblueBars = voting_reason['Patronage seekers']\nredBars = voting_reason['Legislation minded']\nyellowBars = voting_reason['Value/Morality Seekers']\npurpleBars = voting_reason['Biradri bound']\nblackBars = voting_reason['Skeptics']\npinkBars = voting_reason[\"Don't know\"]\n \n# plot\nbarWidth = 0.85\nnames = ('2013','2008')\n# Create green Bars\nplt.bar(r, greenBars, color='#b5ffb9', edgecolor='white', width=barWidth, label=\"Party loyal\")\n# Create orange Bars\nplt.bar(r, orangeBars, bottom=greenBars, color='#f9bc86', edgecolor='white', width=barWidth, label=\"Development seekers\")\n# Create blue Bars\nplt.bar(r, blueBars, bottom=[i+j for i,j in zip(greenBars, orangeBars)], color='#a3acff', edgecolor='white', width=barWidth, label=\"Patronage seekers\")\n\nplt.bar(r, redBars, bottom=[i+j+k for i,j,k in zip(greenBars, orangeBars,blueBars)], color='#ff0000', edgecolor='white', width=barWidth,label=\"Legislation minded\")\n\nplt.bar(r, yellowBars, bottom=[i+j+k+l for i,j,k,l in zip(greenBars, orangeBars,blueBars,redBars)], color='#ffff00', edgecolor='white', width=barWidth,label=\"Value/Morality Seekers\")\n \nplt.bar(r, purpleBars, bottom=[i+j+k+l+m for i,j,k,l,m in zip(greenBars, orangeBars,blueBars,redBars,yellowBars)], color='#800080', edgecolor='white', width=barWidth,label=\"Biradri bound\")\n\nplt.bar(r, blackBars, bottom=[i+j+k+l+m+n for i,j,k,l,m,n in zip(greenBars, orangeBars,blueBars,redBars,yellowBars,purpleBars)], color='#000000', edgecolor='white', width=barWidth,label=\"Skeptics)\")\n\nplt.bar(r, pinkBars, bottom=[i+j+k+l+m+n+o for i,j,k,l,m,n,o in zip(greenBars, orangeBars,blueBars,redBars,yellowBars,purpleBars,blackBars)], color='#ff69b4', edgecolor='white', width=barWidth,label=\"Don't know\")\n\n# Custom x axis\nplt.xticks(r, names)\nplt.xlabel(\"year\")\nplt.ylabel(\"percentage\")\nplt.title(\"Voting Reason\")\nplt.legend(loc='upper left', bbox_to_anchor=(1,1), ncol=1)\n \n# Show graphic\n\nplt.show()",
      "execution_count": null,
      "outputs": []
    },
    {
      "metadata": {
        "trusted": true,
        "collapsed": true,
        "_uuid": "fcfb8321e7c0f8e163caf8ad49eb2779f6bc6ed3"
      },
      "cell_type": "code",
      "source": "",
      "execution_count": null,
      "outputs": []
    }
  ],
  "metadata": {
    "kernelspec": {
      "display_name": "Python 3",
      "language": "python",
      "name": "python3"
    },
    "language_info": {
      "name": "python",
      "version": "3.6.6",
      "mimetype": "text/x-python",
      "codemirror_mode": {
        "name": "ipython",
        "version": 3
      },
      "pygments_lexer": "ipython3",
      "nbconvert_exporter": "python",
      "file_extension": ".py"
    }
  },
  "nbformat": 4,
  "nbformat_minor": 1
}